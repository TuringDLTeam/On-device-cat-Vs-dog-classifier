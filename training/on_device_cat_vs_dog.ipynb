{
  "nbformat": 4,
  "nbformat_minor": 0,
  "metadata": {
    "colab": {
      "name": "on device cat vs dog.ipynb",
      "provenance": [],
      "collapsed_sections": []
    },
    "kernelspec": {
      "name": "python3",
      "display_name": "Python 3"
    },
    "language_info": {
      "name": "python"
    },
    "accelerator": "GPU"
  },
  "cells": [
    {
      "cell_type": "code",
      "execution_count": 1,
      "metadata": {
        "id": "q9Z9gWyNBD1m"
      },
      "outputs": [],
      "source": [
        "import tensorflow as tf\n",
        "from tensorflow import keras\n",
        "from tensorflow import lite\n",
        "\n",
        "from keras import layers\n",
        "\n",
        "import tensorflow_hub as hub\n",
        "import tensorflow_datasets as tfds\n",
        "\n",
        "import pathlib"
      ]
    },
    {
      "cell_type": "code",
      "source": [
        "tfds.disable_progress_bar()"
      ],
      "metadata": {
        "id": "nEIgFCRxCBVK"
      },
      "execution_count": 2,
      "outputs": []
    },
    {
      "cell_type": "code",
      "source": [
        "dataset_name = 'cats_vs_dogs'\n",
        "model_url = 'https://tfhub.dev/google/tf2-preview/mobilenet_v2/feature_vector/4'\n",
        "checkpoint_filepath = 'tmp/checkpoint'\n",
        "model_filepath = 'model/'\n",
        "tflite_path = 'cat_vs_dog.tflite'\n",
        "\n",
        "input_width, input_height, channels = 224, 224, 3\n",
        "\n",
        "model_input_shape = (input_width, input_height, channels)"
      ],
      "metadata": {
        "id": "dJpIlegCByVL"
      },
      "execution_count": 3,
      "outputs": []
    },
    {
      "cell_type": "markdown",
      "source": [
        "# Loading the dataset"
      ],
      "metadata": {
        "id": "ptpfW5LfCZJY"
      }
    },
    {
      "cell_type": "code",
      "source": [
        "train_dataset, val_dataset = tfds.load(name=dataset_name, split=['train[:90%]', 'train[90%:]'], as_supervised=True)"
      ],
      "metadata": {
        "id": "XGdEYfHJB7Xr"
      },
      "execution_count": 4,
      "outputs": []
    },
    {
      "cell_type": "code",
      "source": [
        "def preprocess(image, label):\n",
        "  image = tf.image.resize(image, [input_width, input_height])\n",
        "  image = image / 255.\n",
        "\n",
        "  return image, label"
      ],
      "metadata": {
        "id": "sfxZaL6bCStd"
      },
      "execution_count": 5,
      "outputs": []
    },
    {
      "cell_type": "code",
      "source": [
        "batch_size = 32"
      ],
      "metadata": {
        "id": "OJ99uMj2C-an"
      },
      "execution_count": 6,
      "outputs": []
    },
    {
      "cell_type": "code",
      "source": [
        "train_dataset = train_dataset.map(preprocess).shuffle(1000).batch(batch_size).prefetch(1)\n",
        "val_dataset = val_dataset.map(preprocess).batch(batch_size).prefetch(1)"
      ],
      "metadata": {
        "id": "jxaZRI8WDJYG"
      },
      "execution_count": 7,
      "outputs": []
    },
    {
      "cell_type": "markdown",
      "source": [
        "# Loading the model"
      ],
      "metadata": {
        "id": "AFEgCmE2ECQ3"
      }
    },
    {
      "cell_type": "code",
      "source": [
        "pretrained_layer = hub.KerasLayer(model_url,\n",
        "                                  weights='imagenet',\n",
        "                                  trainable=False,\n",
        "                                  name='mobile_net',\n",
        "                                  output_shape=[1280])"
      ],
      "metadata": {
        "id": "P110yTSDDYcV"
      },
      "execution_count": 8,
      "outputs": []
    },
    {
      "cell_type": "code",
      "source": [
        "model = keras.models.Sequential([\n",
        "  pretrained_layer,\n",
        "  layers.Dense(2, activation='softmax', name='output_layer')\n",
        "], name='classifier')"
      ],
      "metadata": {
        "id": "lMYauESLEilG"
      },
      "execution_count": 9,
      "outputs": []
    },
    {
      "cell_type": "code",
      "source": [
        "model.build([None, *model_input_shape])"
      ],
      "metadata": {
        "id": "rhoJ4jK3E0Ml"
      },
      "execution_count": 10,
      "outputs": []
    },
    {
      "cell_type": "code",
      "source": [
        "model.summary()"
      ],
      "metadata": {
        "colab": {
          "base_uri": "https://localhost:8080/"
        },
        "id": "gbv9P_HRFV8H",
        "outputId": "a8503f87-92fd-4967-e612-be7694c8431d"
      },
      "execution_count": 11,
      "outputs": [
        {
          "output_type": "stream",
          "name": "stdout",
          "text": [
            "Model: \"classifier\"\n",
            "_________________________________________________________________\n",
            " Layer (type)                Output Shape              Param #   \n",
            "=================================================================\n",
            " mobile_net (KerasLayer)     multiple                  2257984   \n",
            "                                                                 \n",
            " output_layer (Dense)        multiple                  2562      \n",
            "                                                                 \n",
            "=================================================================\n",
            "Total params: 2,260,546\n",
            "Trainable params: 2,562\n",
            "Non-trainable params: 2,257,984\n",
            "_________________________________________________________________\n"
          ]
        }
      ]
    },
    {
      "cell_type": "markdown",
      "source": [
        "# Training the model"
      ],
      "metadata": {
        "id": "j9LrlL8kFszu"
      }
    },
    {
      "cell_type": "code",
      "source": [
        "model.compile(loss='sparse_categorical_crossentropy',\n",
        "              optimizer='adam',\n",
        "              metrics=['accuracy'])"
      ],
      "metadata": {
        "id": "EpE-5khZFuzu"
      },
      "execution_count": 12,
      "outputs": []
    },
    {
      "cell_type": "code",
      "source": [
        "callbacks = [\n",
        "  keras.callbacks.EarlyStopping(monitor='val_loss', patience=3),\n",
        "  keras.callbacks.ModelCheckpoint(\n",
        "    filepath=checkpoint_filepath,\n",
        "    save_weights_only=True,\n",
        "    monitor='val_accuracy',\n",
        "    mode='max',\n",
        "    save_best_only=True\n",
        "  )\n",
        "]"
      ],
      "metadata": {
        "id": "15rj0W2aGCMY"
      },
      "execution_count": 13,
      "outputs": []
    },
    {
      "cell_type": "code",
      "source": [
        "model.fit(train_dataset,\n",
        "          epochs=500,\n",
        "          validation_data=val_dataset,\n",
        "          callbacks=callbacks\n",
        ")"
      ],
      "metadata": {
        "colab": {
          "base_uri": "https://localhost:8080/"
        },
        "id": "guoa0dV4F-T-",
        "outputId": "efa0dfc4-0fef-4f56-e9d9-6e48258044d8"
      },
      "execution_count": 14,
      "outputs": [
        {
          "output_type": "stream",
          "name": "stdout",
          "text": [
            "Epoch 1/500\n",
            "655/655 [==============================] - 90s 113ms/step - loss: 0.0541 - accuracy: 0.9814 - val_loss: 0.0472 - val_accuracy: 0.9854\n",
            "Epoch 2/500\n",
            "655/655 [==============================] - 74s 110ms/step - loss: 0.0312 - accuracy: 0.9891 - val_loss: 0.0279 - val_accuracy: 0.9901\n",
            "Epoch 3/500\n",
            "655/655 [==============================] - 73s 108ms/step - loss: 0.0256 - accuracy: 0.9915 - val_loss: 0.0236 - val_accuracy: 0.9927\n",
            "Epoch 4/500\n",
            "655/655 [==============================] - 72s 108ms/step - loss: 0.0232 - accuracy: 0.9918 - val_loss: 0.0294 - val_accuracy: 0.9888\n",
            "Epoch 5/500\n",
            "655/655 [==============================] - 76s 114ms/step - loss: 0.0203 - accuracy: 0.9933 - val_loss: 0.0275 - val_accuracy: 0.9914\n",
            "Epoch 6/500\n",
            "655/655 [==============================] - 72s 108ms/step - loss: 0.0184 - accuracy: 0.9939 - val_loss: 0.0265 - val_accuracy: 0.9918\n"
          ]
        },
        {
          "output_type": "execute_result",
          "data": {
            "text/plain": [
              "<keras.callbacks.History at 0x7f519fdc9350>"
            ]
          },
          "metadata": {},
          "execution_count": 14
        }
      ]
    },
    {
      "cell_type": "code",
      "source": [
        "model.load_weights(checkpoint_filepath)"
      ],
      "metadata": {
        "colab": {
          "base_uri": "https://localhost:8080/"
        },
        "id": "GvzvFYLsKcxH",
        "outputId": "ac4bc84e-2fc6-4ea2-f76c-48518807b5be"
      },
      "execution_count": 15,
      "outputs": [
        {
          "output_type": "execute_result",
          "data": {
            "text/plain": [
              "<tensorflow.python.training.tracking.util.CheckpointLoadStatus at 0x7f519d1dc890>"
            ]
          },
          "metadata": {},
          "execution_count": 15
        }
      ]
    },
    {
      "cell_type": "markdown",
      "source": [
        "# Saving and converting to tflite model"
      ],
      "metadata": {
        "id": "enJRCo4eLMdS"
      }
    },
    {
      "cell_type": "code",
      "source": [
        "tf.saved_model.save(model, model_filepath)"
      ],
      "metadata": {
        "colab": {
          "base_uri": "https://localhost:8080/"
        },
        "id": "-jCMtHMQHs9T",
        "outputId": "774c33e5-908c-49b1-f4db-64d61fdfb195"
      },
      "execution_count": 16,
      "outputs": [
        {
          "output_type": "stream",
          "name": "stdout",
          "text": [
            "INFO:tensorflow:Assets written to: model/assets\n"
          ]
        },
        {
          "output_type": "stream",
          "name": "stderr",
          "text": [
            "INFO:tensorflow:Assets written to: model/assets\n"
          ]
        }
      ]
    },
    {
      "cell_type": "code",
      "source": [
        "convertor = lite.TFLiteConverter.from_saved_model(model_filepath)\n",
        "convertor.optimizations = [lite.Optimize.OPTIMIZE_FOR_SIZE]\n",
        "\n",
        "tflite_model = convertor.convert()"
      ],
      "metadata": {
        "colab": {
          "base_uri": "https://localhost:8080/"
        },
        "id": "Z_bV8gKDKVJN",
        "outputId": "a57592ba-9e49-4a70-f88a-a9a24f02a495"
      },
      "execution_count": 17,
      "outputs": [
        {
          "output_type": "stream",
          "name": "stderr",
          "text": [
            "WARNING:absl:Optimization option OPTIMIZE_FOR_SIZE is deprecated, please use optimizations=[Optimize.DEFAULT] instead.\n",
            "WARNING:absl:Optimization option OPTIMIZE_FOR_SIZE is deprecated, please use optimizations=[Optimize.DEFAULT] instead.\n",
            "WARNING:absl:Optimization option OPTIMIZE_FOR_SIZE is deprecated, please use optimizations=[Optimize.DEFAULT] instead.\n",
            "WARNING:absl:Buffer deduplication procedure will be skipped when flatbuffer library is not properly loaded\n"
          ]
        }
      ]
    },
    {
      "cell_type": "code",
      "source": [
        "path = pathlib.Path(tflite_path)\n",
        "path.write_bytes(tflite_model)"
      ],
      "metadata": {
        "colab": {
          "base_uri": "https://localhost:8080/"
        },
        "id": "u1DHWub5LE6S",
        "outputId": "0854f76b-fe7d-4f6a-a0ee-4c0fa7740f78"
      },
      "execution_count": 18,
      "outputs": [
        {
          "output_type": "execute_result",
          "data": {
            "text/plain": [
              "2649152"
            ]
          },
          "metadata": {},
          "execution_count": 18
        }
      ]
    },
    {
      "cell_type": "markdown",
      "source": [
        "# Downloading the converted model"
      ],
      "metadata": {
        "id": "wyXFpVayOKk5"
      }
    },
    {
      "cell_type": "code",
      "source": [
        "from google.colab import files"
      ],
      "metadata": {
        "id": "rfWo4DhkLv3c"
      },
      "execution_count": 20,
      "outputs": []
    },
    {
      "cell_type": "code",
      "source": [
        "files.download(tflite_path)"
      ],
      "metadata": {
        "colab": {
          "base_uri": "https://localhost:8080/",
          "height": 17
        },
        "id": "3ARF7kQmN_Q4",
        "outputId": "cf389920-195c-47ba-bbea-7f776cb7c882"
      },
      "execution_count": 21,
      "outputs": [
        {
          "output_type": "display_data",
          "data": {
            "text/plain": [
              "<IPython.core.display.Javascript object>"
            ],
            "application/javascript": [
              "\n",
              "    async function download(id, filename, size) {\n",
              "      if (!google.colab.kernel.accessAllowed) {\n",
              "        return;\n",
              "      }\n",
              "      const div = document.createElement('div');\n",
              "      const label = document.createElement('label');\n",
              "      label.textContent = `Downloading \"${filename}\": `;\n",
              "      div.appendChild(label);\n",
              "      const progress = document.createElement('progress');\n",
              "      progress.max = size;\n",
              "      div.appendChild(progress);\n",
              "      document.body.appendChild(div);\n",
              "\n",
              "      const buffers = [];\n",
              "      let downloaded = 0;\n",
              "\n",
              "      const channel = await google.colab.kernel.comms.open(id);\n",
              "      // Send a message to notify the kernel that we're ready.\n",
              "      channel.send({})\n",
              "\n",
              "      for await (const message of channel.messages) {\n",
              "        // Send a message to notify the kernel that we're ready.\n",
              "        channel.send({})\n",
              "        if (message.buffers) {\n",
              "          for (const buffer of message.buffers) {\n",
              "            buffers.push(buffer);\n",
              "            downloaded += buffer.byteLength;\n",
              "            progress.value = downloaded;\n",
              "          }\n",
              "        }\n",
              "      }\n",
              "      const blob = new Blob(buffers, {type: 'application/binary'});\n",
              "      const a = document.createElement('a');\n",
              "      a.href = window.URL.createObjectURL(blob);\n",
              "      a.download = filename;\n",
              "      div.appendChild(a);\n",
              "      a.click();\n",
              "      div.remove();\n",
              "    }\n",
              "  "
            ]
          },
          "metadata": {}
        },
        {
          "output_type": "display_data",
          "data": {
            "text/plain": [
              "<IPython.core.display.Javascript object>"
            ],
            "application/javascript": [
              "download(\"download_2eabc2db-4d80-4f86-b05d-38330f06a6c5\", \"cat_vs_dog.tflite\", 2649152)"
            ]
          },
          "metadata": {}
        }
      ]
    },
    {
      "cell_type": "code",
      "source": [
        ""
      ],
      "metadata": {
        "id": "znonZZ4COSkq"
      },
      "execution_count": null,
      "outputs": []
    }
  ]
}